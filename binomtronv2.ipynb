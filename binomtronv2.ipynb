{
 "cells": [
  {
   "cell_type": "markdown",
   "metadata": {},
   "source": [
    "# Import des modules/librairies"
   ]
  },
  {
   "cell_type": "code",
   "execution_count": null,
   "metadata": {},
   "outputs": [],
   "source": [
    "import random as rd\n",
    "import pandas as pd\n",
    "import numpy as np"
   ]
  },
  {
   "cell_type": "markdown",
   "metadata": {},
   "source": [
    "# Lecture du fichier csv avec Pandas"
   ]
  },
  {
   "cell_type": "code",
   "execution_count": null,
   "metadata": {},
   "outputs": [],
   "source": [
    "list_apprennant = pd.read_csv('list_apprenant.csv')\n",
    "print(list_apprennant)"
   ]
  },
  {
   "cell_type": "code",
   "execution_count": null,
   "metadata": {},
   "outputs": [],
   "source": [
    "x = list_apprennant.iloc[:].values\n",
    "for student in x:\n",
    "    print(\"Nom : {0} , Prénom : {1} , Note : {2}\".format(student[0], student[1], student[2]))"
   ]
  },
  {
   "cell_type": "markdown",
   "metadata": {},
   "source": [
    "# Transformation de la variable projet en objet"
   ]
  },
  {
   "cell_type": "code",
   "execution_count": 4,
   "metadata": {},
   "outputs": [
    {
     "name": "stdout",
     "output_type": "stream",
     "text": [
      "Entrer le nom du projet: \n",
      "Projet 1\n",
      "Quelle est la compétence associée au projet ? \n",
      "Bdd\n",
      "Intitulé du projet : Projet 1\n",
      "Compétence associée : Bdd\n"
     ]
    }
   ],
   "source": [
    "project = {\n",
    "    'name' : '',\n",
    "    'skill' : ''\n",
    "}\n",
    "\n",
    "project_name = input('Entrer le nom du projet: \\n')\n",
    "\n",
    "project_skill = input(\"Quelle est la compétence associée au projet ? \\n\")\n",
    "\n",
    "project['name'] = project_name\n",
    "project['skill'] = project_skill\n",
    "\n",
    "print(\"Intitulé du projet : {0}\".format(project['name']))\n",
    "print(\"Compétence associée : {0}\".format(project['skill']))"
   ]
  },
  {
   "cell_type": "markdown",
   "metadata": {},
   "source": [
    "# Changement de la note d'un Etudiant"
   ]
  },
  {
   "cell_type": "code",
   "execution_count": 5,
   "metadata": {},
   "outputs": [
    {
     "name": "stdout",
     "output_type": "stream",
     "text": [
      "Voulez-vous mettre à jour la note de Valentin ? Y/NY\n",
      "Voulez-vous mettre à jour la note de Marie ? Y/NY\n",
      "Voulez-vous mettre à jour la note de Julien ? Y/NY\n",
      "Voulez-vous mettre à jour la note de Phichet ? Y/NY\n",
      "Voulez-vous mettre à jour la note de Kevin ? Y/NY\n",
      "Voulez-vous mettre à jour la note de Vivien ? Y/NY\n",
      "Voulez-vous mettre à jour la note de Rachid ? Y/NY\n",
      "Voulez-vous mettre à jour la note de Antoine ? Y/NY\n",
      "Voulez-vous mettre à jour la note de Camille ? Y/Ny\n",
      "Voulez-vous mettre à jour la note de Farid ? Y/Ny\n",
      "Voulez-vous mettre à jour la note de Arthur ? Y/Ny\n",
      "Voulez-vous mettre à jour la note de Tanguy ? Y/Ny\n",
      "Voulez-vous mettre à jour la note de Giovanny ? Y/Ny\n",
      "Voulez-vous mettre à jour la note de Josephine ? Y/Ny\n",
      "Voulez-vous mettre à jour la note de Hatice ? Y/Ny\n"
     ]
    }
   ],
   "source": [
    "for student in x:\n",
    "    choice = input(\"Voulez-vous mettre à jour la note de {0} ? Y/N\".format(student[1]))\n",
    "    if(choice.lower() == \"Y\"):\n",
    "        # updated_score = int(input(\"Quelle note souhaitez vous entrer ?\"))\n",
    "        # student[3] = updated_score\n",
    "        print('Update completed')"
   ]
  },
  {
   "cell_type": "code",
   "execution_count": null,
   "metadata": {},
   "outputs": [],
   "source": [
    "def generate_random_list(list):\n",
    "    generated_list = []\n",
    "    if(len(student_list) > 0):\n",
    "        while(len(generated_list) < 4):\n",
    "            generated_student = random.choice(list)\n",
    "            del list[list.index(generated_student)]\n",
    "            generated_list.append(generated_student)\n",
    "        return generated_list\n",
    "    else:\n",
    "        return 'Impossible de générer de nouvelles listes...'\n",
    "            \n",
    "\n",
    "for i in range(4):\n",
    "    print(generate_random_list(student_list))"
   ]
  }
 ],
 "metadata": {
  "kernelspec": {
   "display_name": "Python 3",
   "language": "python",
   "name": "python3"
  },
  "language_info": {
   "codemirror_mode": {
    "name": "ipython",
    "version": 3
   },
   "file_extension": ".py",
   "mimetype": "text/x-python",
   "name": "python",
   "nbconvert_exporter": "python",
   "pygments_lexer": "ipython3",
   "version": "3.8.5"
  }
 },
 "nbformat": 4,
 "nbformat_minor": 4
}
