{
 "cells": [
  {
   "cell_type": "markdown",
   "metadata": {
    "_cell_guid": "b1076dfc-b9ad-4769-8c92-a6c4dae69d19",
    "_uuid": "8f2839f25d086af736a60e9eeb907d3b93b6e0e5",
    "papermill": {
     "duration": 0.008335,
     "end_time": "2021-02-26T09:09:34.362765",
     "exception": false,
     "start_time": "2021-02-26T09:09:34.354430",
     "status": "completed"
    },
    "tags": []
   },
   "source": [
    "# Binomtron - Simplon"
   ]
  },
  {
   "cell_type": "markdown",
   "metadata": {
    "papermill": {
     "duration": 0.007178,
     "end_time": "2021-02-26T09:09:34.377364",
     "exception": false,
     "start_time": "2021-02-26T09:09:34.370186",
     "status": "completed"
    },
    "tags": []
   },
   "source": [
    "# Import du module random, création d'une liste d'étudiants et de deux listes vides : liste des étudiants à remplir et liste pour les groupes"
   ]
  },
  {
   "cell_type": "code",
   "execution_count": 1,
   "metadata": {
    "execution": {
     "iopub.execute_input": "2021-02-26T09:09:34.396659Z",
     "iopub.status.busy": "2021-02-26T09:09:34.395912Z",
     "iopub.status.idle": "2021-02-26T09:09:34.407069Z",
     "shell.execute_reply": "2021-02-26T09:09:34.407682Z"
    },
    "papermill": {
     "duration": 0.022443,
     "end_time": "2021-02-26T09:09:34.408019",
     "exception": false,
     "start_time": "2021-02-26T09:09:34.385576",
     "status": "completed"
    },
    "tags": []
   },
   "outputs": [],
   "source": [
    "#-*- coding: utf-8 -*-\n",
    "import random\n",
    "\n",
    "json_student_list = [{\n",
    "        \"last_name\": \"Fayeulle\",\n",
    "        \"first_name\": \"Mickael\",\n",
    "        \"score\": 0\n",
    "    },\n",
    "    {\n",
    "        \"last_name\": \"Delobel\",\n",
    "        \"first_name\": \"Joséphine\",\n",
    "        \"score\": 0\n",
    "    },\n",
    "    {\n",
    "        \"last_name\": \"Karbiche\",\n",
    "        \"first_name\": \"Rachid\",\n",
    "        \"score\": 0\n",
    "    },\n",
    "    {\n",
    "        \"last_name\": \"Faby\",\n",
    "        \"first_name\": \"Kévin\",\n",
    "        \"score\": 0\n",
    "    },\n",
    "    {\n",
    "        \"last_name\": \"Vansteenkiste\",\n",
    "        \"first_name\": \"Julien\",\n",
    "        \"score\": 0\n",
    "    },\n",
    "    {\n",
    "        \"last_name\": \"De smedt\",\n",
    "        \"first_name\": \"Marie\",\n",
    "        \"score\": 0\n",
    "    },\n",
    "    {\n",
    "        \"last_name\": \"Minéo\",\n",
    "        \"first_name\": \"Valentin\",\n",
    "        \"score\": 0\n",
    "    },\n",
    "    {\n",
    "        \"last_name\": \"Meyer\",\n",
    "        \"first_name\": \"Tanguy\",\n",
    "        \"score\": 0\n",
    "    },\n",
    "    {\n",
    "        \"last_name\": \"Sauer\",\n",
    "        \"first_name\": \"Camille\",\n",
    "        \"score\": 0\n",
    "    },\n",
    "    {\n",
    "        \"last_name\": \"Dupont\",\n",
    "        \"first_name\": \"Pierrette\",\n",
    "        \"score\": 0\n",
    "    },\n",
    "    {\n",
    "        \"last_name\": \"Durand\",\n",
    "        \"first_name\": \"Romain\",\n",
    "        \"score\": 0\n",
    "    },\n",
    "    {\n",
    "        \"last_name\": \"Leroy\",\n",
    "        \"first_name\": \"Adrien\",\n",
    "        \"score\": 0\n",
    "    },\n",
    "    {\n",
    "        \"last_name\": \"Fostier\",\n",
    "        \"first_name\": \"Marine\",\n",
    "        \"score\": 0\n",
    "    },\n",
    "    {\n",
    "        \"last_name\": \"Gallel\",\n",
    "        \"first_name\": \"Nacyme\",\n",
    "        \"score\": 0\n",
    "    },\n",
    "    {\n",
    "        \"last_name\": \"Vasseur\",\n",
    "        \"first_name\": \"Leïla\",\n",
    "        \"score\": 0\n",
    "    },\n",
    "    {\n",
    "        \"last_name\": \"Ponce\",\n",
    "        \"first_name\": \"Pierre\",\n",
    "        \"score\": 0\n",
    "    }\n",
    "]\n",
    "\n",
    "student_list = []\n",
    "count = 1"
   ]
  },
  {
   "cell_type": "markdown",
   "metadata": {
    "papermill": {
     "duration": 0.007045,
     "end_time": "2021-02-26T09:09:34.422843",
     "exception": false,
     "start_time": "2021-02-26T09:09:34.415798",
     "status": "completed"
    },
    "tags": []
   },
   "source": [
    "## Création de la classe Apprenant"
   ]
  },
  {
   "cell_type": "code",
   "execution_count": 2,
   "metadata": {
    "execution": {
     "iopub.execute_input": "2021-02-26T09:09:34.441830Z",
     "iopub.status.busy": "2021-02-26T09:09:34.441115Z",
     "iopub.status.idle": "2021-02-26T09:09:34.452272Z",
     "shell.execute_reply": "2021-02-26T09:09:34.451588Z"
    },
    "papermill": {
     "duration": 0.021682,
     "end_time": "2021-02-26T09:09:34.452415",
     "exception": false,
     "start_time": "2021-02-26T09:09:34.430733",
     "status": "completed"
    },
    "tags": []
   },
   "outputs": [],
   "source": [
    "class Student():\n",
    "    def __init__(self, first_name, last_name, score):\n",
    "        self.first_name = first_name\n",
    "        self.last_name = last_name\n",
    "        self.score = score\n",
    "\n",
    "    def display_student(self):\n",
    "        return(\"Nom : {0} \\nPrenom : {1}\".format(self.last_name, self.first_name))\n",
    "\n",
    "    def change_student_score(self):\n",
    "        \"\"\" Modification ou non de la note de l'étudiant sur la compétence projet et enregistrement de la nouvelle valeur. \n",
    "        \"\"\"\n",
    "        new_score_choice = str(input('Voulez-vous changer la note de {0} ?(Y/N)'.format(self.first_name)))\n",
    "        if(new_score_choice.lower() == 'y'):\n",
    "            try:\n",
    "                new_score = int(input(\"Quelle est la note de {0} ?\".format(self.first_name)))\n",
    "                if new_score >= 1 and new_score <= 5:\n",
    "                    self.score = new_score\n",
    "                    print('Changement de la note effectué.')\n",
    "                else:\n",
    "                    while(new_score < 1 or new_score > 5):\n",
    "                        print('Veuillez indiquer un entier compris entre 1 et 5')\n",
    "                        new_score = int(input(\"Quelle est la note de {0} ?\".format(self.first_name)))\n",
    "            except ValueError:\n",
    "                print('Veuillez indiquer un entier compris entre 1 et 5')\n",
    "                new_score = int(input(\"Quelle est la note de {0} ?\".format(self.first_name)))\n",
    "        elif(new_score_choice.lower() != ('n' and '')):\n",
    "                print('Erreur de saisie, veuillez tapez \\'y\\' pour modifier la note ou \\'n\\' pour passer')\n",
    "                new_score_choice = str(input('Voulez-vous changer la note de {0} ?(Y/N)'.format(self.first_name)))"
   ]
  },
  {
   "cell_type": "markdown",
   "metadata": {
    "papermill": {
     "duration": 0.007384,
     "end_time": "2021-02-26T09:09:34.467486",
     "exception": false,
     "start_time": "2021-02-26T09:09:34.460102",
     "status": "completed"
    },
    "tags": []
   },
   "source": [
    "## Création de la classe Projet"
   ]
  },
  {
   "cell_type": "code",
   "execution_count": 3,
   "metadata": {
    "execution": {
     "iopub.execute_input": "2021-02-26T09:09:34.486106Z",
     "iopub.status.busy": "2021-02-26T09:09:34.485438Z",
     "iopub.status.idle": "2021-02-26T09:09:34.492472Z",
     "shell.execute_reply": "2021-02-26T09:09:34.493077Z"
    },
    "papermill": {
     "duration": 0.018139,
     "end_time": "2021-02-26T09:09:34.493255",
     "exception": false,
     "start_time": "2021-02-26T09:09:34.475116",
     "status": "completed"
    },
    "tags": []
   },
   "outputs": [],
   "source": [
    "class Project():\n",
    "    def __init__(self, project_name, project_skill, project_distribution, project_group_size):\n",
    "        self.project_name = project_name\n",
    "        self.project_skill = project_skill\n",
    "        self.project_distribution = project_distribution\n",
    "        self.project_group_size = project_group_size\n",
    "\n",
    "    def display_project(self):\n",
    "        \"\"\"\n",
    "            Affichage du projet, de sa compétence, du niveau demandé pour les groupes et de leur taille\n",
    "        \"\"\"\n",
    "        distribution = ''\n",
    "        if(self.project_distribution.lower() == 'hm'):\n",
    "            distribution = 'Homogène'\n",
    "        if(self.project_distribution.lower() == 'ht'):\n",
    "            distribution = 'Hétérogène'\n",
    "\n",
    "        return(\"Nom du projet : {0} \\nCompétence associée : {1} \\nNiveau des groupes : {2} \\nTaille des groupes : {3} \\n------\"\n",
    "               .format(self.project_name, self.project_skill, distribution, self.project_group_size))"
   ]
  },
  {
   "cell_type": "markdown",
   "metadata": {
    "papermill": {
     "duration": 0.007338,
     "end_time": "2021-02-26T09:09:34.508415",
     "exception": false,
     "start_time": "2021-02-26T09:09:34.501077",
     "status": "completed"
    },
    "tags": []
   },
   "source": [
    "## Création de la liste des étudiants et de la fonction de génération des groupes"
   ]
  },
  {
   "cell_type": "code",
   "execution_count": 4,
   "metadata": {
    "execution": {
     "iopub.execute_input": "2021-02-26T09:09:34.527310Z",
     "iopub.status.busy": "2021-02-26T09:09:34.526546Z",
     "iopub.status.idle": "2021-02-26T09:09:34.546571Z",
     "shell.execute_reply": "2021-02-26T09:09:34.547164Z"
    },
    "papermill": {
     "duration": 0.0313,
     "end_time": "2021-02-26T09:09:34.547338",
     "exception": false,
     "start_time": "2021-02-26T09:09:34.516038",
     "status": "completed"
    },
    "tags": []
   },
   "outputs": [],
   "source": [
    "def create_student_list(json_file):\n",
    "    \"\"\" Retourne une liste d'objet avec le prénom, nom et la note de chaque étudiant.\n",
    "    \"\"\"\n",
    "    student_list = [Student(student['first_name'], student['last_name'], student['score']) for student in json_file]\n",
    "    return student_list\n",
    "\n",
    "student_list = create_student_list(json_student_list)\n",
    "\n",
    "def is_even_groups(list, group_size):\n",
    "    \"\"\" Retourne vrai si la taille du groupe est un nombre pair\n",
    "    \"\"\"\n",
    "    return len(list) % group_size == 0\n",
    "\n",
    "def generate_heterogeneous_list(list, group_size):\n",
    "    \"\"\" Récupère un élément aléatoire d'une liste d'apprenant et l'ajoute à une autre liste tant que sa taille n'excède pas la taille du groupe.\n",
    "        Supprime l'élément récupéré de la liste principale et retourne la nouvelle liste générée.\n",
    "    \"\"\"\n",
    "    my_new_list = sorted(list, key = lambda k: k.score)\n",
    "    half = int(len(my_new_list) / 2)\n",
    "    lower_bracket = my_new_list[0:half]\n",
    "    upper_bracket = my_new_list[int(len(list) - 1):int(len(list) / 2 - 1):-1]\n",
    "\n",
    "    generated_list = []\n",
    "    groups = []\n",
    "    if(len(list) > 0):\n",
    "        if is_even_groups(list, group_size):\n",
    "            i = 0\n",
    "            while len(groups) < (len(list) // group_size):\n",
    "                while len(generated_list) < group_size:\n",
    "                    generated_list.append([lower_bracket[i].first_name, lower_bracket[i].score])\n",
    "                    generated_list.append([upper_bracket[i].first_name, upper_bracket[i].score])\n",
    "                    i += 1\n",
    "                groups.append(generated_list)    \n",
    "                generated_list = []\n",
    "        else:\n",
    "            heterogene_list = []\n",
    "            for i,j in zip(lower_bracket,upper_bracket):\n",
    "                heterogene_list.append(i)\n",
    "                heterogene_list.append(j)\n",
    "        \n",
    "            i = group_size + 1\n",
    "            for i in range(0, group_size + 1):\n",
    "                generated_list.append([heterogene_list[i].first_name, heterogene_list[i].score])\n",
    "            groups.append(generated_list)\n",
    "            generated_list = []\n",
    "            while(len(groups) < (len(list) // group_size)):\n",
    "                while(len(generated_list) < group_size):\n",
    "                    i += 1\n",
    "                    generated_list.append([heterogene_list[i].first_name, heterogene_list[i].score])\n",
    "                groups.append(generated_list)\n",
    "                generated_list = []\n",
    "\n",
    "    return groups\n",
    "    \n",
    "def generate_homogeneous_list(list, group_size):\n",
    "    \"\"\" Tri croissant des étudiants selon leur note et création de groupes homogènes de la taille précisée en paramètre.\n",
    "    \"\"\"\n",
    "    my_new_list = sorted(list, key = lambda k: k.score)\n",
    "    generated_list = []\n",
    "    groups = []\n",
    "    if(len(list) > 0):\n",
    "        if is_even_groups(list, group_size):\n",
    "            i = 0\n",
    "            while len(groups) < (len(list) // group_size):\n",
    "                while len(generated_list) < group_size:\n",
    "                    generated_list.append([my_new_list[i].first_name, my_new_list[i].score])\n",
    "                    i += 1\n",
    "                groups.append(generated_list)    \n",
    "                generated_list = []\n",
    "        else:\n",
    "            i = group_size + 1\n",
    "            for i in range(0, group_size + 1):\n",
    "                generated_list.append([my_new_list[i].first_name, my_new_list[i].score])\n",
    "            groups.append(generated_list)\n",
    "            generated_list = []\n",
    "            while(len(groups) < (len(list) // group_size)):\n",
    "                while(len(generated_list) < group_size):\n",
    "                    i += 1\n",
    "                    generated_list.append([my_new_list[i].first_name, my_new_list[i].score])\n",
    "                groups.append(generated_list)\n",
    "                generated_list = []\n",
    "\n",
    "    return groups"
   ]
  },
  {
   "cell_type": "markdown",
   "metadata": {
    "papermill": {
     "duration": 0.007675,
     "end_time": "2021-02-26T09:09:34.563276",
     "exception": false,
     "start_time": "2021-02-26T09:09:34.555601",
     "status": "completed"
    },
    "tags": []
   },
   "source": [
    "## Modification des notes, création du projet et affichage des groupes"
   ]
  },
  {
   "cell_type": "code",
   "execution_count": 5,
   "metadata": {
    "execution": {
     "iopub.execute_input": "2021-02-26T09:09:34.582726Z",
     "iopub.status.busy": "2021-02-26T09:09:34.582026Z",
     "iopub.status.idle": "2021-02-26T09:09:34.622324Z",
     "shell.execute_reply": "2021-02-26T09:09:34.622998Z"
    },
    "papermill": {
     "duration": 0.051891,
     "end_time": "2021-02-26T09:09:34.623203",
     "exception": false,
     "start_time": "2021-02-26T09:09:34.571312",
     "status": "completed"
    },
    "tags": []
   },
   "outputs": [
    {
     "ename": "StdinNotImplementedError",
     "evalue": "raw_input was called, but this frontend does not support input requests.",
     "output_type": "error",
     "traceback": [
      "\u001b[0;31m---------------------------------------------------------------------------\u001b[0m",
      "\u001b[0;31mStdinNotImplementedError\u001b[0m                  Traceback (most recent call last)",
      "\u001b[0;32m<ipython-input-5-fb01b209a252>\u001b[0m in \u001b[0;36m<module>\u001b[0;34m\u001b[0m\n\u001b[0;32m----> 1\u001b[0;31m \u001b[0mproject_name\u001b[0m \u001b[0;34m=\u001b[0m \u001b[0mstr\u001b[0m\u001b[0;34m(\u001b[0m\u001b[0minput\u001b[0m\u001b[0;34m(\u001b[0m\u001b[0;34m'Le nom de votre projet : '\u001b[0m\u001b[0;34m)\u001b[0m\u001b[0;34m)\u001b[0m\u001b[0;34m\u001b[0m\u001b[0;34m\u001b[0m\u001b[0m\n\u001b[0m\u001b[1;32m      2\u001b[0m \u001b[0mproject_skill\u001b[0m \u001b[0;34m=\u001b[0m \u001b[0mstr\u001b[0m\u001b[0;34m(\u001b[0m\u001b[0minput\u001b[0m\u001b[0;34m(\u001b[0m\u001b[0;34m'La compétence du projet : '\u001b[0m\u001b[0;34m)\u001b[0m\u001b[0;34m)\u001b[0m\u001b[0;34m\u001b[0m\u001b[0;34m\u001b[0m\u001b[0m\n\u001b[1;32m      3\u001b[0m \u001b[0;34m\u001b[0m\u001b[0m\n\u001b[1;32m      4\u001b[0m \u001b[0;32mfor\u001b[0m \u001b[0mstudent\u001b[0m \u001b[0;32min\u001b[0m \u001b[0mstudent_list\u001b[0m\u001b[0;34m:\u001b[0m\u001b[0;34m\u001b[0m\u001b[0;34m\u001b[0m\u001b[0m\n\u001b[1;32m      5\u001b[0m     \u001b[0mprint\u001b[0m\u001b[0;34m(\u001b[0m\u001b[0mstudent\u001b[0m\u001b[0;34m.\u001b[0m\u001b[0mdisplay_student\u001b[0m\u001b[0;34m(\u001b[0m\u001b[0;34m)\u001b[0m\u001b[0;34m)\u001b[0m\u001b[0;34m\u001b[0m\u001b[0;34m\u001b[0m\u001b[0m\n",
      "\u001b[0;32m/opt/conda/lib/python3.7/site-packages/ipykernel/kernelbase.py\u001b[0m in \u001b[0;36mraw_input\u001b[0;34m(self, prompt)\u001b[0m\n\u001b[1;32m    853\u001b[0m         \u001b[0;32mif\u001b[0m \u001b[0;32mnot\u001b[0m \u001b[0mself\u001b[0m\u001b[0;34m.\u001b[0m\u001b[0m_allow_stdin\u001b[0m\u001b[0;34m:\u001b[0m\u001b[0;34m\u001b[0m\u001b[0;34m\u001b[0m\u001b[0m\n\u001b[1;32m    854\u001b[0m             raise StdinNotImplementedError(\n\u001b[0;32m--> 855\u001b[0;31m                 \u001b[0;34m\"raw_input was called, but this frontend does not support input requests.\"\u001b[0m\u001b[0;34m\u001b[0m\u001b[0;34m\u001b[0m\u001b[0m\n\u001b[0m\u001b[1;32m    856\u001b[0m             )\n\u001b[1;32m    857\u001b[0m         return self._input_request(str(prompt),\n",
      "\u001b[0;31mStdinNotImplementedError\u001b[0m: raw_input was called, but this frontend does not support input requests."
     ]
    }
   ],
   "source": [
    "project_name = str(input('Le nom de votre projet : '))\n",
    "project_skill = str(input('La compétence du projet : '))\n",
    "\n",
    "for student in student_list:\n",
    "    print(student.display_student())\n",
    "    student.change_student_score()\n",
    "    print(\"Note : {0}\".format(student.score))\n",
    "    print('\\n------')\n",
    "\n",
    "project_distribution = str(input('La répartition souhaitée (Hm pour Homogène, Ht pour hétérogène) : '))\n",
    "\n",
    "\n",
    "while(project_distribution.lower() != 'hm' and project_distribution.lower() != 'ht'):\n",
    "    print('Erreur de saisie, indiquez \"hm\" pour une répartition homogène et \"ht\" pour une répartition hétèrogène des groupes')\n",
    "    project_distribution = str(input('La répartition souhaitée (Hm pour Homogène, Ht pour hétérogène) : '))\n",
    "\n",
    "try:\n",
    "    project_group_size = int(input(\"Combien d'apprenants dans vos groupes ? \"))\n",
    "    while (project_group_size > 5 or project_group_size < 2) and (type(project_group_size) != int):\n",
    "        print('Erreur de saisie, veuillez indiquez un nombre entier compris entre 1 et 5.')\n",
    "        project_group_size = int(input(\"Combien d'apprenants dans vos groupes ? \"))\n",
    "        \n",
    "except ValueError:\n",
    "    print('Erreur de saisie, veuillez indiquez un nombre entier compris entre 1 et 5.')\n",
    "    project_group_size = int(input(\"Combien d'apprenants dans vos groupes ? \"))\n",
    "\n",
    "# project_group_size = int(input(\"Combien d'apprenants dans vos groupes ? \"))\n",
    "new_project = Project(project_name, project_skill, project_distribution, project_group_size)\n",
    "print(new_project.display_project())\n",
    "\n",
    "\n",
    "if project_distribution.lower() == \"hm\":\n",
    "    print('------------')\n",
    "    for student in generate_homogeneous_list(student_list, project_group_size):\n",
    "        print(student)\n",
    "    print('------------')\n",
    "elif project_distribution.lower() == \"ht\":\n",
    "    print('------------')\n",
    "    for student in generate_heterogeneous_list(student_list, project_group_size):\n",
    "        print(student)\n",
    "    print('------------')"
   ]
  }
 ],
 "metadata": {
  "kernelspec": {
   "display_name": "Python 3",
   "language": "python",
   "name": "python3"
  },
  "language_info": {
   "codemirror_mode": {
    "name": "ipython",
    "version": 3
   },
   "file_extension": ".py",
   "mimetype": "text/x-python",
   "name": "python",
   "nbconvert_exporter": "python",
   "pygments_lexer": "ipython3",
   "version": "3.7.9"
  },
  "papermill": {
   "default_parameters": {},
   "duration": 7.098814,
   "end_time": "2021-02-26T09:09:35.242856",
   "environment_variables": {},
   "exception": null,
   "input_path": "__notebook__.ipynb",
   "output_path": "__notebook__.ipynb",
   "parameters": {},
   "start_time": "2021-02-26T09:09:28.144042",
   "version": "2.2.2"
  }
 },
 "nbformat": 4,
 "nbformat_minor": 4
}
