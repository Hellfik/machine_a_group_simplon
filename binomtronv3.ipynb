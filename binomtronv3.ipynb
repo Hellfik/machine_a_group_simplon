{
 "cells": [
  {
   "cell_type": "markdown",
   "metadata": {
    "_cell_guid": "b1076dfc-b9ad-4769-8c92-a6c4dae69d19",
    "_uuid": "8f2839f25d086af736a60e9eeb907d3b93b6e0e5",
    "papermill": {
     "duration": 0.00884,
     "end_time": "2021-02-25T15:36:41.812296",
     "exception": false,
     "start_time": "2021-02-25T15:36:41.803456",
     "status": "completed"
    },
    "tags": []
   },
   "source": [
    "# Binomtron - Simplon"
   ]
  },
  {
   "cell_type": "markdown",
   "metadata": {
    "papermill": {
     "duration": 0.01002,
     "end_time": "2021-02-25T15:36:41.830240",
     "exception": false,
     "start_time": "2021-02-25T15:36:41.820220",
     "status": "completed"
    },
    "tags": []
   },
   "source": [
    "# Import du module random, création d'une liste d'étudiants et de deux listes vides : liste des étudiants à remplir et liste pour les groupes"
   ]
  },
  {
   "cell_type": "code",
   "execution_count": 26,
   "metadata": {
    "execution": {
     "iopub.execute_input": "2021-02-25T15:36:41.861263Z",
     "iopub.status.busy": "2021-02-25T15:36:41.859957Z",
     "iopub.status.idle": "2021-02-25T15:36:41.863521Z",
     "shell.execute_reply": "2021-02-25T15:36:41.864003Z"
    },
    "papermill": {
     "duration": 0.02596,
     "end_time": "2021-02-25T15:36:41.864450",
     "exception": false,
     "start_time": "2021-02-25T15:36:41.838490",
     "status": "completed"
    },
    "tags": []
   },
   "outputs": [],
   "source": [
    "#-*- coding: utf-8 -*-\n",
    "import random\n",
    "\n",
    "json_student_list = [{\n",
    "        \"last_name\": \"Fayeulle\",\n",
    "        \"first_name\": \"Mickael\",\n",
    "        \"score\": 0\n",
    "    },\n",
    "    {\n",
    "        \"last_name\": \"Delobel\",\n",
    "        \"first_name\": \"Joséphine\",\n",
    "        \"score\": 0\n",
    "    },\n",
    "    {\n",
    "        \"last_name\": \"Karbiche\",\n",
    "        \"first_name\": \"Rachid\",\n",
    "        \"score\": 0\n",
    "    },\n",
    "    {\n",
    "        \"last_name\": \"Faby\",\n",
    "        \"first_name\": \"Kévin\",\n",
    "        \"score\": 0\n",
    "    },\n",
    "    {\n",
    "        \"last_name\": \"Vansteenkiste\",\n",
    "        \"first_name\": \"Julien\",\n",
    "        \"score\": 0\n",
    "    },\n",
    "    {\n",
    "        \"last_name\": \"De smedt\",\n",
    "        \"first_name\": \"Marie\",\n",
    "        \"score\": 0\n",
    "    },\n",
    "    {\n",
    "        \"last_name\": \"Minéo\",\n",
    "        \"first_name\": \"Valentin\",\n",
    "        \"score\": 0\n",
    "    },\n",
    "    {\n",
    "        \"last_name\": \"Meyer\",\n",
    "        \"first_name\": \"Tanguy\",\n",
    "        \"score\": 0\n",
    "    },\n",
    "    {\n",
    "        \"last_name\": \"Sauer\",\n",
    "        \"first_name\": \"Camille\",\n",
    "        \"score\": 0\n",
    "    },\n",
    "    {\n",
    "        \"last_name\": \"Dupont\",\n",
    "        \"first_name\": \"Pierrette\",\n",
    "        \"score\": 0\n",
    "    },\n",
    "    {\n",
    "        \"last_name\": \"Durand\",\n",
    "        \"first_name\": \"Romain\",\n",
    "        \"score\": 0\n",
    "    },\n",
    "    {\n",
    "        \"last_name\": \"Leroy\",\n",
    "        \"first_name\": \"Adrien\",\n",
    "        \"score\": 0\n",
    "    },\n",
    "    {\n",
    "        \"last_name\": \"Fostier\",\n",
    "        \"first_name\": \"Marine\",\n",
    "        \"score\": 0\n",
    "    },\n",
    "    {\n",
    "        \"last_name\": \"Gallel\",\n",
    "        \"first_name\": \"Nacyme\",\n",
    "        \"score\": 0\n",
    "    },\n",
    "    {\n",
    "        \"last_name\": \"Vasseur\",\n",
    "        \"first_name\": \"Leïla\",\n",
    "        \"score\": 0\n",
    "    },\n",
    "    {\n",
    "        \"last_name\": \"Ponce\",\n",
    "        \"first_name\": \"Pierre\",\n",
    "        \"score\": 0\n",
    "    }\n",
    "]\n",
    "\n",
    "student_list = []\n",
    "count = 1"
   ]
  },
  {
   "cell_type": "markdown",
   "metadata": {
    "papermill": {
     "duration": 0.007129,
     "end_time": "2021-02-25T15:36:41.879482",
     "exception": false,
     "start_time": "2021-02-25T15:36:41.872353",
     "status": "completed"
    },
    "tags": []
   },
   "source": [
    "## Création de la classe Apprenant"
   ]
  },
  {
   "cell_type": "code",
   "execution_count": 27,
   "metadata": {
    "execution": {
     "iopub.execute_input": "2021-02-25T15:36:41.900789Z",
     "iopub.status.busy": "2021-02-25T15:36:41.898935Z",
     "iopub.status.idle": "2021-02-25T15:36:41.907830Z",
     "shell.execute_reply": "2021-02-25T15:36:41.908526Z"
    },
    "papermill": {
     "duration": 0.021662,
     "end_time": "2021-02-25T15:36:41.908770",
     "exception": false,
     "start_time": "2021-02-25T15:36:41.887108",
     "status": "completed"
    },
    "tags": []
   },
   "outputs": [],
   "source": [
    "class Student():\n",
    "    def __init__(self, first_name, last_name, score):\n",
    "        self.first_name = first_name\n",
    "        self.last_name = last_name\n",
    "        self.score = score\n",
    "\n",
    "    def display_student(self):\n",
    "        return(\"Nom : {0} \\nPrenom : {1} \\nNote : {2} \\n------\".format(self.last_name, self.first_name, self.score))\n",
    "\n",
    "    def change_student_score(self):\n",
    "        new_score_choice = str(input('Voulez-vous changer la note de {0} ?(Y/N)'.format(self.first_name)))\n",
    "        if(new_score_choice.lower() == 'y'):\n",
    "            new_score = int(input(\"Quelle est la note de {0} ?\".format(self.first_name)))\n",
    "            self.score = new_score\n",
    "            print('Changement de la note effectué.')"
   ]
  },
  {
   "cell_type": "markdown",
   "metadata": {
    "papermill": {
     "duration": 0.008046,
     "end_time": "2021-02-25T15:36:41.924517",
     "exception": false,
     "start_time": "2021-02-25T15:36:41.916471",
     "status": "completed"
    },
    "tags": []
   },
   "source": [
    "## Création de la classe Projet"
   ]
  },
  {
   "cell_type": "code",
   "execution_count": 28,
   "metadata": {
    "execution": {
     "iopub.execute_input": "2021-02-25T15:36:41.944734Z",
     "iopub.status.busy": "2021-02-25T15:36:41.943629Z",
     "iopub.status.idle": "2021-02-25T15:36:41.950871Z",
     "shell.execute_reply": "2021-02-25T15:36:41.951406Z"
    },
    "papermill": {
     "duration": 0.019286,
     "end_time": "2021-02-25T15:36:41.951643",
     "exception": false,
     "start_time": "2021-02-25T15:36:41.932357",
     "status": "completed"
    },
    "tags": []
   },
   "outputs": [],
   "source": [
    "class Project():\n",
    "    def __init__(self, project_name, project_skill, project_distribution, project_group_size):\n",
    "        self.project_name = project_name\n",
    "        self.project_skill = project_skill\n",
    "        self.project_distribution = project_distribution\n",
    "        self.project_group_size = project_group_size\n",
    "\n",
    "   # def project_details(self):\n",
    "\n",
    "    def display_project(self):\n",
    "        return(\"Nom du projet : {0} \\nCompétence associée : {1} \\nNiveau des groupes : {2} \\nTaille des groupes : {3} \\n------\"\n",
    "               .format(self.project_name, self.project_skill, self.project_distribution, self.project_group_size))"
   ]
  },
  {
   "cell_type": "markdown",
   "metadata": {
    "papermill": {
     "duration": 0.009558,
     "end_time": "2021-02-25T15:36:41.969317",
     "exception": false,
     "start_time": "2021-02-25T15:36:41.959759",
     "status": "completed"
    },
    "tags": []
   },
   "source": [
    "## Création de la liste des étudiants et de la fonction de génération des groupes"
   ]
  },
  {
   "cell_type": "code",
   "execution_count": 29,
   "metadata": {
    "execution": {
     "iopub.execute_input": "2021-02-25T15:36:41.991247Z",
     "iopub.status.busy": "2021-02-25T15:36:41.990073Z",
     "iopub.status.idle": "2021-02-25T15:36:42.002331Z",
     "shell.execute_reply": "2021-02-25T15:36:42.002871Z"
    },
    "papermill": {
     "duration": 0.025486,
     "end_time": "2021-02-25T15:36:42.003136",
     "exception": false,
     "start_time": "2021-02-25T15:36:41.977650",
     "status": "completed"
    },
    "tags": []
   },
   "outputs": [],
   "source": [
    "def create_student_list(json_file):\n",
    "    for student in json_file:\n",
    "        new_student = Student(student['first_name'], student['last_name'],student['score'])\n",
    "        student_list.append(new_student)\n",
    "    return student_list\n",
    "\n",
    "student_list = create_student_list(json_student_list)\n",
    "\n",
    "def is_even_groups(list, group_size):\n",
    "    if len(list) % group_size == 0:\n",
    "        return True\n",
    "    else :\n",
    "        return False\n",
    "\n",
    "def generate_heterogeneous_list(list, group_size):\n",
    "    my_new_list = sorted(list, key = lambda k: k.score)\n",
    "    generated_list = []\n",
    "    groups = []\n",
    "    # if(len(list) > 0):\n",
    "    #    if is_even_groups(list, group_size):\n",
    "    #        for i in range(len(list) // group_size):\n",
    "\n",
    "            # while(len(generated_list) < group_size) and len(groups) < (len(list) // group_size):\n",
    "            #    generated_student = random.choice(list)\n",
    "            #    del list[list.index(generated_student)]\n",
    "            #    generated_list.append(generated_student)\n",
    "    #    return groups\n",
    "    #else:\n",
    "    #    return 'Impossible de générer de nouvelles listes...'\n",
    "    \n",
    "def generate_homogeneous_list(list, group_size):\n",
    "    my_new_list = sorted(list, key = lambda k: k.score)\n",
    "    generated_list = []\n",
    "    groups = []\n",
    "    if(len(list) > 0):\n",
    "        if is_even_groups(list, group_size):\n",
    "            i = 0\n",
    "            while len(groups) < (len(list) // group_size):\n",
    "                while len(generated_list) < group_size:\n",
    "                    generated_list.append(my_new_list[i].first_name)\n",
    "                    i += 1\n",
    "                groups.append(generated_list)    \n",
    "                generated_list = []\n",
    "        else:\n",
    "            if group_size == 3:\n",
    "                i = 4\n",
    "                j = 7\n",
    "                groups.append(list[0:group_size + 1])\n",
    "                while(len(groups) < (len(list) - group_size + 1) // group_size):\n",
    "                    groups.append(list[i:j].first_name)\n",
    "                    i += 3\n",
    "                    j += 3\n",
    "    return groups"
   ]
  },
  {
   "cell_type": "markdown",
   "metadata": {
    "papermill": {
     "duration": 0.008406,
     "end_time": "2021-02-25T15:36:42.019977",
     "exception": false,
     "start_time": "2021-02-25T15:36:42.011571",
     "status": "completed"
    },
    "tags": []
   },
   "source": [
    "## Modification des notes, création du projet et affichage des groupes"
   ]
  },
  {
   "cell_type": "code",
   "execution_count": 24,
   "metadata": {
    "execution": {
     "iopub.execute_input": "2021-02-25T15:36:42.042278Z",
     "iopub.status.busy": "2021-02-25T15:36:42.041151Z",
     "iopub.status.idle": "2021-02-25T15:36:42.086855Z",
     "shell.execute_reply": "2021-02-25T15:36:42.086220Z"
    },
    "papermill": {
     "duration": 0.058277,
     "end_time": "2021-02-25T15:36:42.087034",
     "exception": false,
     "start_time": "2021-02-25T15:36:42.028757",
     "status": "completed"
    },
    "tags": []
   },
   "outputs": [
    {
     "output_type": "stream",
     "name": "stdout",
     "text": [
      "Nom : Fayeulle \n",
      "Prenom : Mickael \n",
      "Note : 0 \n",
      "------\n",
      "Nom : Delobel \n",
      "Prenom : Joséphine \n",
      "Note : 0 \n",
      "------\n",
      "Nom : Karbiche \n",
      "Prenom : Rachid \n",
      "Note : 0 \n",
      "------\n",
      "Nom : Faby \n",
      "Prenom : Kévin \n",
      "Note : 0 \n",
      "------\n",
      "Nom : Vansteenkiste \n",
      "Prenom : Julien \n",
      "Note : 0 \n",
      "------\n",
      "Nom : De smedt \n",
      "Prenom : Marie \n",
      "Note : 0 \n",
      "------\n",
      "Nom : Minéo \n",
      "Prenom : Valentin \n",
      "Note : 0 \n",
      "------\n",
      "Nom : Meyer \n",
      "Prenom : Tanguy \n",
      "Note : 0 \n",
      "------\n",
      "Nom : Sauer \n",
      "Prenom : Camille \n",
      "Note : 0 \n",
      "------\n",
      "Nom : Dupont \n",
      "Prenom : Pierrette \n",
      "Note : 0 \n",
      "------\n",
      "Nom : Durand \n",
      "Prenom : Romain \n",
      "Note : 0 \n",
      "------\n",
      "Nom : Leroy \n",
      "Prenom : Adrien \n",
      "Note : 0 \n",
      "------\n",
      "Nom : Fostier \n",
      "Prenom : Marine \n",
      "Note : 0 \n",
      "------\n",
      "Nom : Gallel \n",
      "Prenom : Nacyme \n",
      "Note : 0 \n",
      "------\n",
      "Nom : Vasseur \n",
      "Prenom : Leïla \n",
      "Note : 0 \n",
      "------\n",
      "Nom : Ponce \n",
      "Prenom : Pierre \n",
      "Note : 0 \n",
      "------\n",
      "Nom du projet : projet1 \n",
      "Compétence associée : bdd \n",
      "Niveau des groupes : hm \n",
      "Taille des groupes : 3 \n",
      "------\n",
      "------------\n",
      "[<__main__.Student object at 0x000001B8AB0D03D0>, <__main__.Student object at 0x000001B8AB0D0A60>, <__main__.Student object at 0x000001B8AB0D0340>, <__main__.Student object at 0x000001B8AB0D0FA0>]\n",
      "[<__main__.Student object at 0x000001B8AB0D0550>, <__main__.Student object at 0x000001B8AB0D0B20>, <__main__.Student object at 0x000001B8AB0D0AC0>]\n",
      "[<__main__.Student object at 0x000001B8AB0D0760>, <__main__.Student object at 0x000001B8AB0D0700>, <__main__.Student object at 0x000001B8AB0D0C40>]\n",
      "[<__main__.Student object at 0x000001B8AB0D0BE0>, <__main__.Student object at 0x000001B8AB0D0100>, <__main__.Student object at 0x000001B8AB0D06A0>]\n",
      "------------\n"
     ]
    }
   ],
   "source": [
    "project_name = str(input('Le nom de votre projet : '))\n",
    "project_skill = str(input('La compétence du projet : '))\n",
    "\n",
    "for student in student_list:\n",
    "    print(student.display_student())\n",
    "    student.change_student_score()\n",
    "\n",
    "project_distribution = str(input('La répartition souhaitée (Hm pour Homogène, Ht pour hétérogène) : '))\n",
    "project_group_size = int(input(\"Combien d'apprenants dans vos groupes ? \"))\n",
    "new_project = Project(project_name, project_skill, project_distribution, project_group_size)\n",
    "print(new_project.display_project())\n",
    "\n",
    "\n",
    "if project_distribution.lower() == \"hm\":\n",
    "    print('------------')\n",
    "    for student in generate_homogeneous_list(student_list, project_group_size):\n",
    "        print(student)\n",
    "    print('------------')\n",
    "elif project_distribution.lower() == \"ht\":\n",
    "    print('------------')\n",
    "    for student in generate_heterogeneous_list(student_list, project_group_size):\n",
    "        print(student.first_name)\n",
    "    print('------------')"
   ]
  },
  {
   "cell_type": "code",
   "execution_count": 25,
   "metadata": {},
   "outputs": [
    {
     "output_type": "stream",
     "name": "stdout",
     "text": [
      "1\n"
     ]
    }
   ],
   "source": [
    "print(13%3)"
   ]
  },
  {
   "cell_type": "code",
   "execution_count": null,
   "metadata": {},
   "outputs": [],
   "source": []
  }
 ],
 "metadata": {
  "kernelspec": {
   "display_name": "Python 3",
   "language": "python",
   "name": "python3"
  },
  "language_info": {
   "codemirror_mode": {
    "name": "ipython",
    "version": 3
   },
   "file_extension": ".py",
   "mimetype": "text/x-python",
   "name": "python",
   "nbconvert_exporter": "python",
   "pygments_lexer": "ipython3",
   "version": "3.8.5-final"
  },
  "papermill": {
   "default_parameters": {},
   "duration": 7.016805,
   "end_time": "2021-02-25T15:36:42.909463",
   "environment_variables": {},
   "exception": null,
   "input_path": "__notebook__.ipynb",
   "output_path": "__notebook__.ipynb",
   "parameters": {},
   "start_time": "2021-02-25T15:36:35.892658",
   "version": "2.2.2"
  }
 },
 "nbformat": 4,
 "nbformat_minor": 4
}